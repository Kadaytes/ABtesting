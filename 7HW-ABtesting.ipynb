{
 "cells": [
  {
   "cell_type": "code",
   "execution_count": 66,
   "id": "8972538f",
   "metadata": {},
   "outputs": [],
   "source": [
    "# ДЗ 7\n",
    "\n",
    "# На основе выбранных продуктов из первого вебинара, \n",
    "# выберите 2 A/B-теста и составьте план эксперимента,\n",
    "# чтобы избежать Peeking Problem\n",
    "# Распишите, какие метрики и как вы будете анализировать\n"
   ]
  },
  {
   "cell_type": "code",
   "execution_count": 67,
   "id": "770a7095",
   "metadata": {},
   "outputs": [],
   "source": [
    "# Ключевые метрики:\n",
    "# 1. Количество новых регистраций пользователей\n",
    "# 2. Доход от новых пользователей\n",
    "\n",
    "# Гипотеза 1: \n",
    "# - Если предоставить покупателю скидку на стоимость корзины от количества \n",
    "# и стоимости положенных товаров, то увеличится средний чек на 20%, \n",
    "# за счет стремления покупателя получить больше скидки.\n",
    "\n",
    "# - Тестируемой группе даём разовую скидку от суммы покупки.\n",
    "# - Тестируем новых пользователей, которые раньше не делали покупок на сайте.\n",
    "# - Метрика - количество новых регистраций пользователей.\n",
    "    \n",
    "\n",
    "# Гипотеза 2: \n",
    "# - Если улучшить описание товара для покупателя, то увеличится количество покупок\n",
    "# на 30% и уменьшится количество возвратов товаров на 80%, за счет понимания \n",
    "# покупателем товара, который он предполагает купить.\n",
    "\n",
    "# - Тестируемой группе показываем улучшенное описание товара.\n",
    "# - Тестируем новых пользователей, которые раньше не делали покупок на сайте.\n",
    "# - Метрика- доход от новых пользователей.    "
   ]
  },
  {
   "cell_type": "code",
   "execution_count": 80,
   "id": "3e5de90b",
   "metadata": {},
   "outputs": [],
   "source": [
    "# -- Решение --\n",
    "# Запускаем А/В тест длительностью 10 дней.\n",
    "# На каждую метрику направляем по 10 000  юзеров. \n",
    "# Ошибка первого рода 0.05. \n",
    "# На основе выбранных данных, проводим два A/B-теста "
   ]
  },
  {
   "cell_type": "code",
   "execution_count": 69,
   "id": "92d9dfed",
   "metadata": {},
   "outputs": [],
   "source": [
    "import numpy as np\n",
    "import pandas as pd\n",
    "from scipy.stats import norm"
   ]
  },
  {
   "cell_type": "code",
   "execution_count": 70,
   "id": "bdc08f72",
   "metadata": {},
   "outputs": [],
   "source": [
    "# Собираем данные и разделяем их на выборки"
   ]
  },
  {
   "cell_type": "code",
   "execution_count": 71,
   "id": "13f758f9",
   "metadata": {},
   "outputs": [],
   "source": [
    "control_registrations = 10000\n",
    "test_registrations = 10000\n",
    "control_income = 1000000\n",
    "test_income = 1000000"
   ]
  },
  {
   "cell_type": "code",
   "execution_count": 72,
   "id": "96e84461",
   "metadata": {},
   "outputs": [],
   "source": [
    "control_registrations_list = np.random.binomial(n=1, p=0.05, size=control_registrations)\n",
    "test_registrations_list = np.random.binomial(n=1, p=0.05, size=test_registrations)\n",
    "control_income_list = np.random.normal(loc=100, scale=20, size=control_income)\n",
    "test_income_list = np.random.normal(loc=110, scale=20, size=test_income)"
   ]
  },
  {
   "cell_type": "code",
   "execution_count": 73,
   "id": "83d37040",
   "metadata": {},
   "outputs": [],
   "source": [
    "# Считаем количество регистраций и доход для контрольной и тестовой групп"
   ]
  },
  {
   "cell_type": "code",
   "execution_count": 74,
   "id": "0f3205e8",
   "metadata": {},
   "outputs": [],
   "source": [
    "control_registrations_num = sum(control_registrations_list)\n",
    "test_registrations_num = sum(test_registrations_list)\n",
    "control_income_sum = sum(control_income_list)\n",
    "test_income_sum = sum(test_income_list)"
   ]
  },
  {
   "cell_type": "code",
   "execution_count": 75,
   "id": "d3dc7aa4",
   "metadata": {},
   "outputs": [],
   "source": [
    "# Используем бутстреп"
   ]
  },
  {
   "cell_type": "code",
   "execution_count": 76,
   "id": "6bfd9c8d",
   "metadata": {},
   "outputs": [],
   "source": [
    "n = 1000\n",
    "differences_registrations = []\n",
    "differences_income = []\n",
    "\n",
    "for i in range(n):\n",
    "    control_registrations_sample = np.random.choice(control_registrations_list, size=10000, replace=True)\n",
    "    test_registrations_sample = np.random.choice(test_registrations_list, size=10000, replace=True)\n",
    "    control_income_sample = np.random.choice(control_income_list, size=10000, replace=True)\n",
    "    test_income_sample = np.random.choice(test_income_list, size=10000, replace=True)\n",
    "\n",
    "    sample_diff_registrations = sum(test_registrations_sample) - sum(control_registrations_sample)\n",
    "    sample_diff_income = sum(test_income_sample) - sum(control_income_sample)\n",
    "\n",
    "    differences_registrations.append(sample_diff_registrations)\n",
    "    differences_income.append(sample_diff_income)"
   ]
  },
  {
   "cell_type": "code",
   "execution_count": 77,
   "id": "bf3a14ac",
   "metadata": {},
   "outputs": [],
   "source": [
    "# Оцениваем доверительные интервалы"
   ]
  },
  {
   "cell_type": "code",
   "execution_count": 78,
   "id": "f3ff0889",
   "metadata": {},
   "outputs": [
    {
     "name": "stdout",
     "output_type": "stream",
     "text": [
      "Доверительный интервал для количества регистраций (18.9387748995939, 22.6632251004061)\n"
     ]
    }
   ],
   "source": [
    "difference_registrations_mean = np.mean(differences_registrations)\n",
    "difference_registrations_std = np.std(differences_registrations)\n",
    "ci_registrations = norm.interval(0.95, loc=difference_registrations_mean, scale=difference_registrations_std/np.sqrt(n))\n",
    "print(\"Доверительный интервал для количества регистраций\", ci_registrations)"
   ]
  },
  {
   "cell_type": "code",
   "execution_count": 79,
   "id": "d7f8c4a7",
   "metadata": {},
   "outputs": [
    {
     "name": "stdout",
     "output_type": "stream",
     "text": [
      "Доверительный интервал для дохода (99643.42532560189, 99985.73751801223)\n"
     ]
    }
   ],
   "source": [
    "difference_income_mean = np.mean(differences_income)\n",
    "difference_income_std = np.std(differences_income)\n",
    "ci_income = norm.interval(0.95, loc=difference_income_mean, scale=difference_income_std/np.sqrt(n))\n",
    "print(\"Доверительный интервал для дохода\", ci_income)"
   ]
  },
  {
   "cell_type": "code",
   "execution_count": 44,
   "id": "1db2a7a5",
   "metadata": {},
   "outputs": [],
   "source": [
    "# Итого:\n",
    "# Так как доверительный интервал не содержит \"0\" для метрики регистраций\n",
    "# и отрицательных значений для метрики дохода, то можем сделать вывод \n",
    "# что эксперимент был успешным и изменения можно внедрять."
   ]
  },
  {
   "cell_type": "code",
   "execution_count": null,
   "id": "4e7a09ec",
   "metadata": {},
   "outputs": [],
   "source": []
  }
 ],
 "metadata": {
  "kernelspec": {
   "display_name": "Python 3 (ipykernel)",
   "language": "python",
   "name": "python3"
  },
  "language_info": {
   "codemirror_mode": {
    "name": "ipython",
    "version": 3
   },
   "file_extension": ".py",
   "mimetype": "text/x-python",
   "name": "python",
   "nbconvert_exporter": "python",
   "pygments_lexer": "ipython3",
   "version": "3.9.13"
  }
 },
 "nbformat": 4,
 "nbformat_minor": 5
}
